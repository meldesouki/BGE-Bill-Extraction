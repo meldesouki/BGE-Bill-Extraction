{
 "cells": [
  {
   "cell_type": "markdown",
   "metadata": {},
   "source": [
    "**Things to extract**\n",
    "- Utility Name\n",
    "- Issued Date\n",
    "\n",
    "- Company Name\n",
    "- Street\n",
    "- City\n",
    "- State\n",
    "- Zip\n",
    "\n",
    "- Electric Choice ID#\n",
    "- Rate Code\n",
    "- Usage\n",
    "- Supplier\n"
   ]
  },
  {
   "cell_type": "code",
   "execution_count": 1,
   "metadata": {},
   "outputs": [],
   "source": [
    "import pdfplumber\n",
    "import pandas as pd"
   ]
  },
  {
   "cell_type": "code",
   "execution_count": 9,
   "metadata": {
    "scrolled": true
   },
   "outputs": [],
   "source": [
    "with pdfplumber.open(\"PII Example 1.pdf\") as pdf:\n",
    "    first_page = pdf.pages[0]\n",
    "    second_page = pdf.pages[1]"
   ]
  },
  {
   "cell_type": "code",
   "execution_count": 3,
   "metadata": {},
   "outputs": [
    {
     "name": "stdout",
     "output_type": "stream",
     "text": [
      "286 123 612 181\n"
     ]
    }
   ],
   "source": [
    "#extracting info from the address on the first page\n",
    "\n",
    "#coordinates of the second top quarter of the page\n",
    "top_half_p1 = first_page.height/2\n",
    "top_quarter_p1 = first_page.height/4\n",
    "second_quarter_p1 = top_half_p1 - top_quarter_p1\n",
    "\n",
    "address_box_left = (first_page.width//2) - 20\n",
    "address_box_top = second_quarter_p1 - 75\n",
    "address_box_right = first_page.width\n",
    "address_box_bottom = (first_page.height//2) -215\n",
    "\n",
    "print(address_box_left,address_box_top,address_box_right,address_box_bottom)"
   ]
  },
  {
   "cell_type": "code",
   "execution_count": 4,
   "metadata": {},
   "outputs": [],
   "source": [
    "# bounding_box expressed as (x0, top, x1, bottom)\n",
    "address_bounding_box = ((first_page.width//2) - 20, second_quarter_p1 - 75, first_page.width, (first_page.height//2) -215)"
   ]
  },
  {
   "cell_type": "code",
   "execution_count": 10,
   "metadata": {
    "scrolled": true
   },
   "outputs": [
    {
     "data": {
      "image/png": "[encoded data removed]",
      "text/plain": [
       "<pdfplumber.display.PageImage at 0x7f0bcc19c160>"
      ]
     },
     "execution_count": 10,
     "metadata": {},
     "output_type": "execute_result"
    }
   ],
   "source": [
    "address_box = first_page.crop(address_bounding_box)\n",
    "# first_page.crop(address_bounding_box).to_image()\n",
    "address_box.to_image()"
   ]
  },
  {
   "cell_type": "code",
   "execution_count": 6,
   "metadata": {},
   "outputs": [
    {
     "name": "stdout",
     "output_type": "stream",
     "text": [
      "Pharmaceutics International Inc\n",
      "10819 Gilroy Rd *Suite 100\n",
      "Cockeysville, MD 21031\n",
      "Account # 6505980000\n",
      "Issued Date: February 18, 2021\n"
     ]
    }
   ],
   "source": [
    "address_extract = first_page.crop(address_bounding_box).extract_text(x_tolerance=1)\n",
    "print(address_extract)"
   ]
  },
  {
   "cell_type": "code",
   "execution_count": 7,
   "metadata": {},
   "outputs": [
    {
     "data": {
      "text/plain": [
       "'10819 Gilroy Rd *Suite 100'"
      ]
     },
     "execution_count": 7,
     "metadata": {},
     "output_type": "execute_result"
    }
   ],
   "source": [
    "street = address_extract.splitlines()[1]\n",
    "street"
   ]
  },
  {
   "cell_type": "code",
   "execution_count": 8,
   "metadata": {},
   "outputs": [
    {
     "name": "stdout",
     "output_type": "stream",
     "text": [
      "Cockeysville MD 21031\n"
     ]
    }
   ],
   "source": [
    "city_state_zip = address_extract.splitlines()[2]\n",
    "city_state_zip = city_state_zip.replace(',', '')\n",
    "\n",
    "city = city_state_zip.split(' ')[0]\n",
    "state =  city_state_zip.split(' ')[1]\n",
    "zip_code =  city_state_zip.split(' ')[2]\n",
    "print(city, state, zip_code)"
   ]
  }
 ],
 "metadata": {
  "kernelspec": {
   "display_name": "Python 3",
   "language": "python",
   "name": "python3"
  },
  "language_info": {
   "codemirror_mode": {
    "name": "ipython",
    "version": 3
   },
   "file_extension": ".py",
   "mimetype": "text/x-python",
   "name": "python",
   "nbconvert_exporter": "python",
   "pygments_lexer": "ipython3",
   "version": "3.6.9"
  }
 },
 "nbformat": 4,
 "nbformat_minor": 4
}
