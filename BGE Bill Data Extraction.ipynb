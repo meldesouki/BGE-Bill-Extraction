{
 "cells": [
  {
   "cell_type": "markdown",
   "metadata": {},
   "source": [
    "**Things to extract**\n",
    "\n",
    "~~- Utility Name~~\n",
    "~~- Issued Date~~\n",
    "\n",
    "~~- Company Name~~\n",
    "~~- Street~~\n",
    "~~- City~~\n",
    "~~- State~~\n",
    "~~- Zip~~\n",
    "\n",
    "\n",
    "~~- Electric Choice ID#~~\n",
    "~~- Rate Code~~\n",
    "\n",
    "~~- Usage~~\n",
    "~~- Supplier~~\n"
   ]
  },
  {
   "cell_type": "code",
   "execution_count": 19,
   "metadata": {},
   "outputs": [],
   "source": [
    "import pdfplumber\n",
    "import pandas as pd\n",
    "# import os"
   ]
  },
  {
   "cell_type": "code",
   "execution_count": 20,
   "metadata": {},
   "outputs": [],
   "source": [
    "# with os.scandir('Bills/') as entries:\n",
    "#     for entry in entries:\n",
    "#         print(entry.name)"
   ]
  },
  {
   "cell_type": "code",
   "execution_count": 83,
   "metadata": {},
   "outputs": [],
   "source": [
    "### FIRST PAGE ###\n",
    "\n",
    "def setAddressBoundingBox(page):\n",
    "    \n",
    "    #get page height and width for box coordinate calculations\n",
    "    page_height = page.height\n",
    "    page_width = page.width\n",
    "    \n",
    "    #address box is near second top quarter\n",
    "    top_half = page.height/2\n",
    "    top_quarter = page.height/4\n",
    "    second_quarter = top_half - top_quarter\n",
    "    \n",
    "    #coordinates of the address box\n",
    "    address_box_left = (page.width//2) - 20\n",
    "    address_box_top = second_quarter - 75\n",
    "    address_box_right = page.width\n",
    "    address_box_bottom = (page.height//2) -215\n",
    "    \n",
    "    address_bounding_box = (address_box_left,address_box_top,address_box_right,address_box_bottom)\n",
    "    \n",
    "    return address_bounding_box\n",
    "\n",
    "def extractAddressBoxText(page, address_bounding_box):\n",
    "    \n",
    "    address_extract_text = page.crop(address_bounding_box).extract_text(x_tolerance=1)\n",
    "    \n",
    "    return address_extract_text\n",
    "\n",
    "def setCompanyName(address_extract):\n",
    "    \n",
    "    company_name_text = address_extract.splitlines()[0]\n",
    "    \n",
    "    return company_name_text\n",
    "    \n",
    "def setStreet(address_extract):\n",
    "\n",
    "    street_text = address_extract.splitlines()[1]\n",
    "    \n",
    "    return street_text\n",
    "\n",
    "def setCityStateZIP(address_extract):\n",
    "    \n",
    "    city_state_zip_text = address_extract.splitlines()[2]\n",
    "    city_state_zip_text = city_state_zip.replace(',', '')\n",
    "    \n",
    "    city_text = city_state_zip.split(' ')[0]\n",
    "    state_text =  city_state_zip.split(' ')[1]\n",
    "    zip_code_text =  city_state_zip.split(' ')[2]\n",
    "    \n",
    "    return city_text, state_text, zip_code_text\n",
    "\n",
    "def setAccNum(address_extract): \n",
    "    \n",
    "    acc_num_text = address_extract.splitlines()[3]\n",
    "    acc_num_text = acc_num_text.split('#')[1]\n",
    "    acc_num_text = acc_num_text.strip()\n",
    "    \n",
    "    return acc_num_text\n",
    "\n",
    "def setIssuedDate(address_extract):\n",
    "    \n",
    "    issued_date_text = address_extract.splitlines()[4]\n",
    "    issued_date_text = issued_date_text.split(':')[1]\n",
    "    issued_date_text = issued_date_text.strip()\n",
    "    \n",
    "    return issued_date_text\n",
    "\n",
    "def setElectricSupplyBoundingBox(page):\n",
    "    \n",
    "    top_half = page.height/2\n",
    "    top_quarter = page.height/4\n",
    "    second_quarter = top_half - top_quarter\n",
    "\n",
    "    electric_supply_box_top  = second_quarter - 75\n",
    "    electric_supply_box_bottom = (page.height//2) - 215\n",
    "    electric_supply_box_left = (first_page.width//2) - 130\n",
    "    electric_supply_box_right = (first_page.width//2)\n",
    "    \n",
    "    electric_supply_bounding_box = (electric_supply_box_left,electric_supply_box_top,electric_supply_box_right,electric_supply_box_bottom)\n",
    "    \n",
    "    return electric_supply_bounding_box\n",
    "\n",
    "def extractElectricSupplyBoxText(page, electric_supply_bounding_box):\n",
    "    \n",
    "    electric_supply_extract_text = page.crop(electric_supply_bounding_box).extract_text(x_tolerance=1)\n",
    "    \n",
    "    return electric_supply_extract_text\n",
    "\n",
    "def setElectricSupplier(electric_supply_extract_text):\n",
    "    \n",
    "    electric_supplier_text = electric_supply_extract.splitlines()[1]\n",
    "    \n",
    "    return electric_supplier_text\n",
    "\n",
    "def setElectricChoiceID(electric_supply_extract_text):\n",
    "    \n",
    "    electric_choice_id_text = electric_supply_extract.splitlines()[4]\n",
    "    electric_choice_id_text = electric_choice_id_text.split('Electric Choice ID:')[1].strip()\n",
    "    \n",
    "    return electric_choice_id_text\n",
    "\n",
    "def setUtilityName(page):\n",
    "    \n",
    "    page_extract = page.extract_text(x_tolerance=1, y_tolerance=1)\n",
    "    utility_name_text = first_page_extract.splitlines()[-6]\n",
    "    \n",
    "    return utility_name_text\n",
    "\n",
    "def setRateBoundingBox(page):\n",
    "    \n",
    "    rate_box_left = 20\n",
    "    rate_box_top = (page.width//4) + 5\n",
    "    rate_box_right = (page.width//2) - 100\n",
    "    rate_box_bottom = (page.width//4) + 50\n",
    "    rate_bounding_box = (rate_box_left, rate_box_top, rate_box_right, rate_box_bottom)\n",
    "    \n",
    "    return rate_bounding_box\n",
    "    \n",
    "def extractRateBoxText(page, rate_bounding_box):\n",
    "    \n",
    "    rate_extract_text = second_page.crop(rate_bounding_box).extract_text(x_tolerance = 1)\n",
    "    \n",
    "    return rate_extract_text\n",
    "\n",
    "def setRate(rate_extract):\n",
    "    \n",
    "    "
   ]
  },
  {
   "cell_type": "code",
   "execution_count": 87,
   "metadata": {},
   "outputs": [],
   "source": [
    "#file_name = input(\"Name of PDF file: \")\n",
    "file_name = 'PII Example 1'\n",
    "#with pdfplumber.open('Bills/'+ file_name + '.pdf') as pdf:\n",
    "with pdfplumber.open(f'Bills/{file_name}.pdf') as pdf:\n",
    "    first_page = pdf.pages[0]\n",
    "    second_page = pdf.pages[1]\n",
    "    \n",
    "    #extracting from address box\n",
    "#     address_bbox = setAddressBoundingBox(first_page)\n",
    "    address_extract = extractAddressBoxText(first_page, setAddressBoundingBox(first_page))\n",
    "    \n",
    "    company_name = setCompanyName(address_extract)\n",
    "    street = setStreet(address_extract)\n",
    "    city, state, zip_code = setCityStateZIP(address_extract)\n",
    "    acc_num = setAccNum(address_extract)\n",
    "    issued_date = setIssuedDate(address_extract)\n",
    "   \n",
    "    #extracting from electric supply box\n",
    "#     electric_supply_bbox = setElectricSupplyBoundingBox(first_page)\n",
    "    electric_supply_extract = extractElectricSupplyBoxText(first_page, setElectricSupplyBoundingBox(first_page))\n",
    "    \n",
    "    electric_supplier = setElectricSupplier(electric_supply_extract)\n",
    "    electric_choice_id = setElectricChoiceID(electric_supply_extract)\n",
    "    \n",
    "    #extracting utility name from the bottom of the page\n",
    "    utility_name = setUtilityName(first_page)\n",
    "    \n",
    "   "
   ]
  },
  {
   "cell_type": "code",
   "execution_count": 76,
   "metadata": {
    "scrolled": true
   },
   "outputs": [],
   "source": [
    "# ### UNABSTRACTED VERSION ### \n",
    "\n",
    "# file_name = input(\"Name of PDF file: \")\n",
    "# with pdfplumber.open('Bills/'+ file_name + '.pdf') as pdf:\n",
    "#     first_page = pdf.pages[0]\n",
    "#     second_page = pdf.pages[1]\n",
    "\n",
    "#     ### FIRST PAGE ###\n",
    "\n",
    "#     #coordinates of the second top quarter of the page\n",
    "#     top_half_p1 = first_page.height/2\n",
    "#     top_quarter_p1 = first_page.height/4\n",
    "#     second_quarter_p1 = top_half_p1 - top_quarter_p1\n",
    "\n",
    "#     #coordinates of the address box\n",
    "#     address_box_left = (first_page.width//2) - 20\n",
    "#     address_box_top = second_quarter_p1 - 75\n",
    "#     address_box_right = first_page.width\n",
    "#     address_box_bottom = (first_page.height//2) -215\n",
    "    \n",
    "#     # bounding_box expressed as (x0, top, x1, bottom)\n",
    "#     ## address_bounding_box = ((first_page.width//2) - 20, second_quarter_p1 - 75, first_page.width, (first_page.height//2) -215)\n",
    "#     address_bounding_box = (address_box_left,address_box_top,address_box_right,address_box_bottom)\n",
    "#     address_box = first_page.crop(address_bounding_box)\n",
    "#     address_box.to_image()\n",
    "    \n",
    "#     address_extract = first_page.crop(address_bounding_box).extract_text(x_tolerance=1)\n",
    "    \n",
    "#    # print(address_extract)\n",
    "    \n",
    "#     #### SECOND PAGE ###\n",
    "\n",
    "#     usage_box_left = (second_page.width//2) - 130\n",
    "#     usage_box_top = (second_page.height//2) - 180\n",
    "#     usage_box_right = (second_page.width//2) - 20\n",
    "#     usage_box_bottom = (second_page.height//2) - 150\n",
    "#     usage_bounding_box = (usage_box_left,usage_box_top,usage_box_right,usage_box_bottom)\n",
    "\n",
    "#    # print(second_page.crop(usage_bounding_box).extract_text())\n",
    "#     usage = second_page.crop(usage_bounding_box).extract_text().splitlines()[0]\n",
    "#     print(usage) \n",
    "        "
   ]
  },
  {
   "cell_type": "code",
   "execution_count": 22,
   "metadata": {
    "scrolled": true
   },
   "outputs": [
    {
     "data": {
      "image/png": "[encoded data removed]",
      "text/plain": [
       "<pdfplumber.display.PageImage at 0x7f2dd33b41d0>"
      ]
     },
     "execution_count": 22,
     "metadata": {},
     "output_type": "execute_result"
    }
   ],
   "source": [
    "# address_box = first_page.crop(address_bounding_box)\n",
    "address_box.to_image()"
   ]
  },
  {
   "cell_type": "code",
   "execution_count": 23,
   "metadata": {},
   "outputs": [],
   "source": [
    "# address_extract = first_page.crop(address_bounding_box).extract_text(x_tolerance=1)\n",
    "# address_extract  = address_box.extract_text(x_tolerance = 1)"
   ]
  },
  {
   "cell_type": "code",
   "execution_count": 24,
   "metadata": {},
   "outputs": [
    {
     "data": {
      "text/plain": [
       "'Powercon Corp'"
      ]
     },
     "execution_count": 24,
     "metadata": {},
     "output_type": "execute_result"
    }
   ],
   "source": [
    "company_name = address_extract.splitlines()[0]\n",
    "company_name"
   ]
  },
  {
   "cell_type": "code",
   "execution_count": 25,
   "metadata": {},
   "outputs": [
    {
     "data": {
      "text/plain": [
       "'1709 Midway Rd'"
      ]
     },
     "execution_count": 25,
     "metadata": {},
     "output_type": "execute_result"
    }
   ],
   "source": [
    "street = address_extract.splitlines()[1]\n",
    "street"
   ]
  },
  {
   "cell_type": "code",
   "execution_count": 26,
   "metadata": {},
   "outputs": [
    {
     "name": "stdout",
     "output_type": "stream",
     "text": [
      "Odenton MD 21113\n"
     ]
    }
   ],
   "source": [
    "city_state_zip = address_extract.splitlines()[2]\n",
    "city_state_zip = city_state_zip.replace(',', '')\n",
    "\n",
    "city = city_state_zip.split(' ')[0]\n",
    "state =  city_state_zip.split(' ')[1]\n",
    "zip_code =  city_state_zip.split(' ')[2]\n",
    "print(city, state, zip_code)"
   ]
  },
  {
   "cell_type": "code",
   "execution_count": 27,
   "metadata": {},
   "outputs": [
    {
     "data": {
      "text/plain": [
       "'5291961000'"
      ]
     },
     "execution_count": 27,
     "metadata": {},
     "output_type": "execute_result"
    }
   ],
   "source": [
    "account_number = address_extract.splitlines()[3]\n",
    "account_number = account_number.split('#')[1]\n",
    "account_number = account_number.strip()\n",
    "account_number"
   ]
  },
  {
   "cell_type": "code",
   "execution_count": 28,
   "metadata": {},
   "outputs": [
    {
     "data": {
      "text/plain": [
       "'July 22, 2021'"
      ]
     },
     "execution_count": 28,
     "metadata": {},
     "output_type": "execute_result"
    }
   ],
   "source": [
    "issued_date = address_extract.splitlines()[4]\n",
    "issued_date = issued_date.split(':')[1]\n",
    "issued_date = issued_date.strip()\n",
    "issued_date"
   ]
  },
  {
   "cell_type": "code",
   "execution_count": 29,
   "metadata": {},
   "outputs": [
    {
     "data": {
      "image/png": "[encoded data removed]",
      "text/plain": [
       "<pdfplumber.display.PageImage at 0x7f2dd33b4eb8>"
      ]
     },
     "execution_count": 29,
     "metadata": {},
     "output_type": "execute_result"
    }
   ],
   "source": [
    "#electric supply bounding box\n",
    "electric_supply_box_top  = address_box_top\n",
    "electric_supply_box_bottom = address_box_bottom\n",
    "electric_supply_box_left = (first_page.width//2) - 130\n",
    "electric_supply_box_right = (first_page.width//2)\n",
    "\n",
    "electric_supply_bounding_box = (electric_supply_box_left,electric_supply_box_top,electric_supply_box_right,electric_supply_box_bottom)\n",
    "electric_supply_box = first_page.crop(electric_supply_bounding_box)\n",
    "electric_supply_box.to_image()"
   ]
  },
  {
   "cell_type": "code",
   "execution_count": 30,
   "metadata": {},
   "outputs": [
    {
     "name": "stdout",
     "output_type": "stream",
     "text": [
      "ELECTRIC SUPPLY\n",
      "Talen Energy Marketing, LLC\n",
      "talenenergy.com\n",
      "(888) 289-7693\n",
      "Electric Choice ID: 5291961449\n"
     ]
    }
   ],
   "source": [
    "electric_supply_extract  = electric_supply_box.extract_text(x_tolerance = 1)\n",
    "print(electric_supply_extract)"
   ]
  },
  {
   "cell_type": "code",
   "execution_count": 31,
   "metadata": {},
   "outputs": [
    {
     "data": {
      "text/plain": [
       "'Talen Energy Marketing, LLC'"
      ]
     },
     "execution_count": 31,
     "metadata": {},
     "output_type": "execute_result"
    }
   ],
   "source": [
    "electric_supplier = electric_supply_extract.splitlines()[1]\n",
    "electric_supplier"
   ]
  },
  {
   "cell_type": "code",
   "execution_count": 32,
   "metadata": {},
   "outputs": [
    {
     "data": {
      "text/plain": [
       "'5291961449'"
      ]
     },
     "execution_count": 32,
     "metadata": {},
     "output_type": "execute_result"
    }
   ],
   "source": [
    "electric_choice_id = electric_supply_extract.splitlines()[4]\n",
    "electric_choice_id = electric_choice_id.split(':')[1].strip()\n",
    "electric_choice_id"
   ]
  },
  {
   "cell_type": "code",
   "execution_count": 33,
   "metadata": {},
   "outputs": [
    {
     "data": {
      "text/plain": [
       "'BGE'"
      ]
     },
     "execution_count": 33,
     "metadata": {},
     "output_type": "execute_result"
    }
   ],
   "source": [
    "first_page_extract = first_page.extract_text(x_tolerance=1, y_tolerance=1)\n",
    "utility_name = first_page_extract.splitlines()[-6]\n",
    "utility_name"
   ]
  },
  {
   "cell_type": "code",
   "execution_count": 34,
   "metadata": {},
   "outputs": [],
   "source": [
    "#### SECOND PAGE ###\n",
    "\n",
    "# usage_box_left = (second_page.width//2) - 130\n",
    "# usage_box_top = (second_page.height//2) - 180\n",
    "# usage_box_right = (second_page.width//2) - 20\n",
    "# usage_box_bottom = (second_page.height//2) - 150\n",
    "# usage_bounding_box = (usage_box_left,usage_box_top,usage_box_right,usage_box_bottom)\n",
    "\n",
    "# second_page.crop(usage_bounding_box).extract_text()\n"
   ]
  },
  {
   "cell_type": "code",
   "execution_count": 35,
   "metadata": {},
   "outputs": [
    {
     "name": "stdout",
     "output_type": "stream",
     "text": [
      "Large General Service - TOU - Schedule GL\n",
      "Billing Period: Jun 21, 2021 - Jul 21, 2021\n",
      "Next Scheduled Reading: August 19, 2021\n",
      "Meter #G159836966 Read on Jul 21\n",
      "\n",
      "TOU - Schedule GL\n"
     ]
    }
   ],
   "source": [
    "rate_box_left = 20\n",
    "rate_box_top = (second_page.width//4) + 5\n",
    "rate_box_right = (second_page.width//2) - 100\n",
    "rate_box_bottom = (second_page.width//4) + 50\n",
    "rate_bounding_box = (rate_box_left, rate_box_top, rate_box_right, rate_box_bottom)\n",
    "\n",
    "second_page.crop(rate_bounding_box).to_image()\n",
    "\n",
    "rate_extract = second_page.crop(rate_bounding_box).extract_text(x_tolerance = 1)\n",
    "\n",
    "#gets the first line after the word 'Service' and remove the leading whitespace and '-'\n",
    "rate = rate_extract.split('Service')[1].splitlines()[0].replace('-','',1).strip() \n",
    "print(rate)"
   ]
  }
 ],
 "metadata": {
  "kernelspec": {
   "display_name": "Python 3",
   "language": "python",
   "name": "python3"
  },
  "language_info": {
   "codemirror_mode": {
    "name": "ipython",
    "version": 3
   },
   "file_extension": ".py",
   "mimetype": "text/x-python",
   "name": "python",
   "nbconvert_exporter": "python",
   "pygments_lexer": "ipython3",
   "version": "3.6.9"
  }
 },
 "nbformat": 4,
 "nbformat_minor": 4
}
